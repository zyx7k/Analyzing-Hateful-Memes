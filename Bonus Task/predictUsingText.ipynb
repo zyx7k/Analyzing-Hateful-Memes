{
 "cells": [
  {
   "cell_type": "markdown",
   "metadata": {},
   "source": [
    "## Predicting if a Meme is Hateful or not on the basis of the Image Captioning and Text of the meme"
   ]
  },
  {
   "cell_type": "markdown",
   "metadata": {},
   "source": [
    "### Step 1: Importing the libraries"
   ]
  },
  {
   "cell_type": "code",
   "execution_count": 9,
   "metadata": {},
   "outputs": [],
   "source": [
    "import cv2\n",
    "import pytesseract\n",
    "import string\n",
    "from transformers import VisionEncoderDecoderModel, ViTFeatureExtractor, AutoTokenizer, AutoModelForSequenceClassification\n",
    "import torch\n",
    "from PIL import Image\n",
    "import os\n",
    "\n",
    "pytesseract.pytesseract.tesseract_cmd = r'C:\\\\Program Files\\\\Tesseract-OCR\\\\tesseract.exe'"
   ]
  },
  {
   "cell_type": "markdown",
   "metadata": {},
   "source": [
    "### Step 2: Function to Preproces the image before OCR to better filter out the text"
   ]
  },
  {
   "cell_type": "code",
   "execution_count": 10,
   "metadata": {},
   "outputs": [],
   "source": [
    "def preprocess_image(image):\n",
    "    image = cv2.bilateralFilter(image, 5, 55, 60)\n",
    "    image = cv2.cvtColor(image, cv2.COLOR_BGR2GRAY)\n",
    "    _, image = cv2.threshold(image, 240, 255, cv2.THRESH_BINARY)\n",
    "    return image"
   ]
  },
  {
   "cell_type": "markdown",
   "metadata": {},
   "source": [
    "### Step 3: Function to perform OCR on the Meme Image"
   ]
  },
  {
   "cell_type": "code",
   "execution_count": 11,
   "metadata": {},
   "outputs": [],
   "source": [
    "def extract_text_from_image(image_path):\n",
    "    image = cv2.imread(image_path)\n",
    "    image = preprocess_image(image)\n",
    "    text = pytesseract.image_to_string(image)\n",
    "    allowed_chars = string.ascii_letters + string.digits + \" \"\n",
    "    filtered_text = \"\".join(char if char in allowed_chars else \" \" for char in text).replace(\"\\n\", \" \")\n",
    "    return filtered_text"
   ]
  },
  {
   "cell_type": "markdown",
   "metadata": {},
   "source": [
    "### Step 4: Using bipin/image-caption-generator model for generating a caption for the meme image"
   ]
  },
  {
   "cell_type": "code",
   "execution_count": 12,
   "metadata": {},
   "outputs": [],
   "source": [
    "def generate_image_caption(image_path):\n",
    "    model_name = \"bipin/image-caption-generator\"\n",
    "    model = VisionEncoderDecoderModel.from_pretrained(model_name)\n",
    "    feature_extractor = ViTFeatureExtractor.from_pretrained(model_name)\n",
    "    tokenizer = AutoTokenizer.from_pretrained(\"gpt2\")\n",
    "\n",
    "    device = torch.device(\"cuda\" if torch.cuda.is_available() else \"cpu\")\n",
    "    model.to(device)\n",
    "\n",
    "    img = Image.open(image_path)\n",
    "    if img.mode != 'RGB':\n",
    "        img = img.convert(mode=\"RGB\")\n",
    "\n",
    "    pixel_values = feature_extractor(images=[img], return_tensors=\"pt\").pixel_values\n",
    "    pixel_values = pixel_values.to(device)\n",
    "\n",
    "    max_length = 128\n",
    "    num_beams = 4\n",
    "\n",
    "    # get model prediction\n",
    "    output_ids = model.generate(pixel_values, num_beams=num_beams, max_length=max_length)\n",
    "\n",
    "    # decode the generated prediction\n",
    "    preds = tokenizer.decode(output_ids[0], skip_special_tokens=True)\n",
    "    return preds"
   ]
  },
  {
   "cell_type": "markdown",
   "metadata": {},
   "source": [
    "### Step 5: Using facebook/roberta-hate-speech-dynabench-r4-target Model to Classify Text as hateful or not"
   ]
  },
  {
   "cell_type": "code",
   "execution_count": 13,
   "metadata": {},
   "outputs": [],
   "source": [
    "def detect_hate_speech(text):\n",
    "    tokenizer = AutoTokenizer.from_pretrained(\"facebook/roberta-hate-speech-dynabench-r4-target\")\n",
    "    model = AutoModelForSequenceClassification.from_pretrained(\"facebook/roberta-hate-speech-dynabench-r4-target\")\n",
    "    \n",
    "    inputs = tokenizer(text, return_tensors=\"pt\", padding=True, truncation=True, max_length=512)\n",
    "    outputs = model(**inputs)\n",
    "    predictions = torch.nn.functional.softmax(outputs.logits, dim=-1)\n",
    "    hate_confidence = predictions[0][1].item()  # Assuming the second index corresponds to \"hateful\"\n",
    "    classification = \"hateful\" if hate_confidence > 0.5 else \"not hateful\"\n",
    "    confidence = hate_confidence if classification == \"hateful\" else 1 - hate_confidence\n",
    "    return classification, confidence"
   ]
  },
  {
   "cell_type": "markdown",
   "metadata": {},
   "source": [
    "### Step 6: Wrapper function to call the helper functions and generate an output file"
   ]
  },
  {
   "cell_type": "code",
   "execution_count": 14,
   "metadata": {},
   "outputs": [],
   "source": [
    "def analyze_meme_for_toxicity(image_path, output_file):\n",
    "    extracted_text = extract_text_from_image(image_path)\n",
    "    image_caption = generate_image_caption(image_path)\n",
    "    combined_text = extracted_text + \" \" + image_caption\n",
    "    \n",
    "    # Analyze individually and combined\n",
    "    results = {}\n",
    "    results[\"extracted_text\"] = detect_hate_speech(extracted_text)\n",
    "    results[\"image_caption\"] = detect_hate_speech(image_caption)\n",
    "    results[\"combined_text\"] = detect_hate_speech(combined_text)\n",
    "    \n",
    "    # Write results to file\n",
    "    with open(output_file, \"a\") as file:\n",
    "        file.write(f\"Image File Name: {os.path.basename(image_path)}\\n\")\n",
    "        for text_type, (classification, confidence) in results.items():\n",
    "            file.write(f\"{text_type.capitalize()} - Classification: {classification}, Confidence: {confidence:.4f}\\n\")\n",
    "        file.write(\"\\n\")"
   ]
  },
  {
   "cell_type": "code",
   "execution_count": 15,
   "metadata": {},
   "outputs": [],
   "source": [
    "def analyze_folder_for_toxicity(folder_path):\n",
    "    output_file = \"detection_results.txt\"\n",
    "    # Ensure the output file is empty before starting\n",
    "    open(output_file, 'w').close()\n",
    "    \n",
    "    for filename in os.listdir(folder_path):\n",
    "        if filename.lower().endswith(('.png', '.jpg', '.jpeg')):\n",
    "            image_path = os.path.join(folder_path, filename)\n",
    "            analyze_meme_for_toxicity(image_path, output_file)"
   ]
  },
  {
   "cell_type": "markdown",
   "metadata": {},
   "source": [
    "### Step 7: Running the Code for Classification"
   ]
  },
  {
   "cell_type": "code",
   "execution_count": 16,
   "metadata": {},
   "outputs": [],
   "source": [
    "folder_path = 'C:\\\\Users\\\\soumi\\\\Desktop\\\\precog\\\\img\\\\validation_data\\\\hateful_memes' #Enter the path of the folder containing images you wish to use\n",
    "analyze_folder_for_toxicity(folder_path)"
   ]
  }
 ],
 "metadata": {
  "kernelspec": {
   "display_name": "Python 3",
   "language": "python",
   "name": "python3"
  },
  "language_info": {
   "codemirror_mode": {
    "name": "ipython",
    "version": 3
   },
   "file_extension": ".py",
   "mimetype": "text/x-python",
   "name": "python",
   "nbconvert_exporter": "python",
   "pygments_lexer": "ipython3",
   "version": "3.11.3"
  }
 },
 "nbformat": 4,
 "nbformat_minor": 2
}
