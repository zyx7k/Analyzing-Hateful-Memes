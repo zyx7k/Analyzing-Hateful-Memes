{
 "cells": [
  {
   "cell_type": "markdown",
   "metadata": {},
   "source": [
    "## Utilizing Computer Vision for Object Detection in Meme Images"
   ]
  },
  {
   "cell_type": "markdown",
   "metadata": {},
   "source": [
    "### Step 1: Importing the neccessary libraries"
   ]
  },
  {
   "cell_type": "code",
   "execution_count": 5,
   "metadata": {},
   "outputs": [],
   "source": [
    "from transformers import DetrImageProcessor, DetrForObjectDetection\n",
    "import torch\n",
    "from PIL import Image\n",
    "import os\n",
    "from collections import Counter"
   ]
  },
  {
   "cell_type": "markdown",
   "metadata": {},
   "source": [
    "### Step 2: Loading the facebook/detr-resnet-50 Model for Object Detection\n",
    "\n"
   ]
  },
  {
   "cell_type": "code",
   "execution_count": 6,
   "metadata": {},
   "outputs": [],
   "source": [
    "# Load DETR model\n",
    "processor = DetrImageProcessor.from_pretrained(\"facebook/detr-resnet-50\", revision=\"no_timm\")\n",
    "model = DetrForObjectDetection.from_pretrained(\"facebook/detr-resnet-50\", revision=\"no_timm\")"
   ]
  },
  {
   "cell_type": "markdown",
   "metadata": {},
   "source": [
    "### Step 3: Setting Paths and category for Classification"
   ]
  },
  {
   "cell_type": "code",
   "execution_count": 7,
   "metadata": {},
   "outputs": [],
   "source": [
    "# Define the base folder path\n",
    "base_folder_path = 'C:\\\\Users\\\\soumi\\\\Desktop\\\\precog\\\\img\\\\validation_data'\n",
    "\n",
    "# Define categories\n",
    "categories = [\"hateful_memes\", \"not_hateful_memes\"]"
   ]
  },
  {
   "cell_type": "markdown",
   "metadata": {},
   "source": [
    "### Step 4: Running the Pre-Trained Model on our Dataset"
   ]
  },
  {
   "cell_type": "code",
   "execution_count": 8,
   "metadata": {},
   "outputs": [
    {
     "name": "stdout",
     "output_type": "stream",
     "text": [
      "Detection results and object frequency analysis for hateful_memes saved.\n",
      "Detection results and object frequency analysis for not_hateful_memes saved.\n"
     ]
    }
   ],
   "source": [
    "for category in categories:\n",
    "    # Path to the current category\n",
    "    current_folder_path = os.path.join(base_folder_path, category)\n",
    "\n",
    "    # Output files for detection results and object frequency analysis\n",
    "    output_file_path = f\"output_results_{category}.txt\"\n",
    "    frequency_file_path = f\"object_frequency_{category}.txt\"\n",
    "\n",
    "    # Object counter\n",
    "    object_counter = Counter()\n",
    "\n",
    "    with open(output_file_path, \"w\") as output_file:\n",
    "        # Iterate over images in the current category folder\n",
    "        for img_path in os.listdir(current_folder_path):\n",
    "            full_img_path = os.path.join(current_folder_path, img_path)\n",
    "            \n",
    "            # Open and preprocess the image\n",
    "            image = Image.open(full_img_path).convert(\"RGB\")\n",
    "            inputs = processor(images=image, return_tensors=\"pt\", input_data_format=\"channels_last\")\n",
    "\n",
    "            # Perform inference\n",
    "            outputs = model(**inputs)\n",
    "\n",
    "            # Convert outputs to COCO API format with threshold > 0.9\n",
    "            target_sizes = torch.tensor([image.size[::-1]])\n",
    "            results = processor.post_process_object_detection(outputs, target_sizes=target_sizes, threshold=0.9)[0]\n",
    "\n",
    "            # Write image path to output file\n",
    "            output_file.write(f\"Image - {full_img_path} :\\n\")\n",
    "\n",
    "            # Write detection results to output file and update object counter\n",
    "            for score, label, box in zip(results[\"scores\"], results[\"labels\"], results[\"boxes\"]):\n",
    "                detected_object = model.config.id2label[label.item()]\n",
    "                object_counter[detected_object] += 1\n",
    "                box = [round(i, 2) for i in box.tolist()]\n",
    "                output_file.write(f\"Detected {detected_object} with confidence {round(score.item(), 3)} at location {box}\\n\")\n",
    "\n",
    "            output_file.write(\"\\n\")\n",
    "    \n",
    "    # Write object frequency analysis to separate file\n",
    "    with open(frequency_file_path, \"w\") as freq_file:\n",
    "        for object, count in object_counter.most_common():\n",
    "            freq_file.write(f\"{object}: {count}\\n\")\n",
    "\n",
    "    print(f\"Detection results and object frequency analysis for {category} saved.\")"
   ]
  }
 ],
 "metadata": {
  "kernelspec": {
   "display_name": "Python 3",
   "language": "python",
   "name": "python3"
  },
  "language_info": {
   "codemirror_mode": {
    "name": "ipython",
    "version": 3
   },
   "file_extension": ".py",
   "mimetype": "text/x-python",
   "name": "python",
   "nbconvert_exporter": "python",
   "pygments_lexer": "ipython3",
   "version": "3.11.3"
  }
 },
 "nbformat": 4,
 "nbformat_minor": 2
}
