{
 "cells": [
  {
   "cell_type": "markdown",
   "metadata": {},
   "source": [
    "## Using Tesseract OCR to extract Caption from Meme Images"
   ]
  },
  {
   "cell_type": "markdown",
   "metadata": {},
   "source": [
    "### Step 1: Importing the requied libraries and setting up the paths"
   ]
  },
  {
   "cell_type": "code",
   "execution_count": 1,
   "metadata": {},
   "outputs": [],
   "source": [
    "import cv2\n",
    "import pytesseract\n",
    "import string\n",
    "import os\n",
    "pytesseract.pytesseract.tesseract_cmd = r'C:\\\\Program Files\\\\Tesseract-OCR\\\\tesseract.exe'\n",
    "\n",
    "image_folder = 'C:\\\\Users\\\\soumi\\\\Desktop\\\\precog\\\\img\\\\train_data\\\\hateful_memes'\n",
    "output_file = \"ocr_results_for_hateful_memes.txt\""
   ]
  },
  {
   "cell_type": "markdown",
   "metadata": {},
   "source": [
    "### Step 2: Defining the Preprocessor function to help filter out the text"
   ]
  },
  {
   "cell_type": "code",
   "execution_count": null,
   "metadata": {},
   "outputs": [],
   "source": [
    "def preprocess_image(image):\n",
    "    image = cv2.bilateralFilter(image, 5, 55, 60)\n",
    "    image = cv2.cvtColor(image, cv2.COLOR_BGR2GRAY)\n",
    "    _, image = cv2.threshold(image, 240, 255, cv2.THRESH_BINARY)\n",
    "    return image"
   ]
  },
  {
   "cell_type": "markdown",
   "metadata": {},
   "source": [
    "### Step 3: Running the model on a dataset of hateful meme images"
   ]
  },
  {
   "cell_type": "code",
   "execution_count": 2,
   "metadata": {},
   "outputs": [
    {
     "name": "stdout",
     "output_type": "stream",
     "text": [
      "OCR results saved to: ocr_results_for_hateful_memes.txt\n"
     ]
    }
   ],
   "source": [
    "allowed_chars = string.ascii_letters + string.digits + \" \"\n",
    "\n",
    "# Open the output text file in write mode\n",
    "with open(output_file, \"w\") as f:\n",
    "    # Iterate through all images in the folder\n",
    "    for filename in os.listdir(image_folder):\n",
    "        # Get the full path of the image\n",
    "        image_path = os.path.join(image_folder, filename)\n",
    "\n",
    "        # Read the image\n",
    "        image = cv2.imread(image_path)\n",
    "\n",
    "        # Preprocess the image\n",
    "        image = preprocess_image(image)\n",
    "        custom_config = r\"--oem 3 --psm 11 -c tessedit_char_whitelist= 'ABCDEFGHIJKLMNOPQRSTUVWXYZ '\"\n",
    "        # Perform OCR and remove extra newlines\n",
    "        text = pytesseract.image_to_string(image)\n",
    "        # Filter text, replacing unrecognized characters with space\n",
    "        filtered_text = \"\".join(\n",
    "            char if char in allowed_chars else \" \" for char in text\n",
    "        )\n",
    "\n",
    "        # Remove extra newlines\n",
    "        filtered_text = filtered_text.replace(\"\\n\", \" \")\n",
    "\n",
    "        # Write the results to the text file\n",
    "        f.write(f\"Image: {filename}, Text: {filtered_text}\\n\")\n",
    "\n",
    "#Saving the results\n",
    "print(f\"OCR results saved to: {output_file}\")"
   ]
  }
 ],
 "metadata": {
  "kernelspec": {
   "display_name": "Python 3",
   "language": "python",
   "name": "python3"
  },
  "language_info": {
   "codemirror_mode": {
    "name": "ipython",
    "version": 3
   },
   "file_extension": ".py",
   "mimetype": "text/x-python",
   "name": "python",
   "nbconvert_exporter": "python",
   "pygments_lexer": "ipython3",
   "version": "3.11.3"
  }
 },
 "nbformat": 4,
 "nbformat_minor": 2
}
